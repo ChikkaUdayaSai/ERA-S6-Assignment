{
  "nbformat": 4,
  "nbformat_minor": 0,
  "metadata": {
    "colab": {
      "provenance": [],
      "gpuType": "T4"
    },
    "kernelspec": {
      "name": "python3",
      "display_name": "Python 3"
    },
    "language_info": {
      "name": "python"
    },
    "accelerator": "GPU"
  },
  "cells": [
    {
      "cell_type": "code",
      "execution_count": 1,
      "metadata": {
        "id": "kqm2IVLjtyJG"
      },
      "outputs": [],
      "source": [
        "# Import necessary modules and functions from other Python files in the project\n",
        "from utils import (\n",
        "    torch,  # PyTorch library\n",
        "    is_cuda_available,  # Function to check if CUDA is available\n",
        "    get_device,  # Function to get the device (CPU or GPU) to be used for training\n",
        "    GetCorrectPredCount, # Function to get the number of correct predictions\n",
        "    train,  # Function to train the model\n",
        "    test,  # Function to test the model\n",
        "    plot_losses,  # Function to plot the losses\n",
        ")\n",
        "\n",
        "from model import (\n",
        "    nn,  # PyTorch's neural network module\n",
        "    Net,  # Custom neural network model,\n",
        "    F # PyTorch's functional module\n",
        ")\n",
        "\n",
        "from torchvision import datasets, transforms # Torchvision contains popular datasets, model architectures, and common image transformations for computer vision\n",
        "import torch.optim as optim  # PyTorch's optimization module"
      ]
    },
    {
      "cell_type": "code",
      "source": [
        "print(\"CUDA Available?\", is_cuda_available())\n",
        "device = get_device()"
      ],
      "metadata": {
        "colab": {
          "base_uri": "https://localhost:8080/"
        },
        "id": "PX7vLHAHviVz",
        "outputId": "529f30c3-749d-4294-fd13-4cdbfb110276"
      },
      "execution_count": 2,
      "outputs": [
        {
          "output_type": "stream",
          "name": "stdout",
          "text": [
            "CUDA Available? True\n"
          ]
        }
      ]
    },
    {
      "cell_type": "code",
      "source": [
        "# Train data transformations\n",
        "train_transforms = transforms.Compose([\n",
        "    # Randomly apply center crop of size 22 to the image with probability 0.1\n",
        "    transforms.RandomApply([transforms.CenterCrop(22), ], p=0.1),\n",
        "    # Resize the image to size 28x28\n",
        "    transforms.Resize((28, 28)),\n",
        "    # Randomly rotate the image by an angle between -15 and 15 degrees\n",
        "    transforms.RandomRotation((-15., 15.), fill=0),\n",
        "    # Convert the image to a tensor\n",
        "    transforms.ToTensor(),\n",
        "    # Normalize the image with mean and standard deviation of MNIST dataset\n",
        "    transforms.Normalize((0.1307,), (0.3081,))\n",
        "])\n",
        "\n",
        "# Test data transformations\n",
        "test_transforms = transforms.Compose([\n",
        "    # Convert the image to a tensor\n",
        "    transforms.ToTensor(),\n",
        "    # Normalize the image with mean and standard deviation of MNIST dataset\n",
        "    transforms.Normalize((0.1307,), (0.3081,))\n",
        "])"
      ],
      "metadata": {
        "id": "6uMoONr6vo9T"
      },
      "execution_count": 3,
      "outputs": []
    },
    {
      "cell_type": "code",
      "source": [
        "# Load the MNIST train and test datasets and apply the respective transformations\n",
        "train_data = datasets.MNIST('../data', train=True, download=True, transform=train_transforms)\n",
        "test_data = datasets.MNIST('../data', train=False, download=True, transform=test_transforms)"
      ],
      "metadata": {
        "colab": {
          "base_uri": "https://localhost:8080/"
        },
        "id": "-0nmtfPAvtTa",
        "outputId": "12b41af3-a4cd-4137-fe4a-35698b967cb2"
      },
      "execution_count": 4,
      "outputs": [
        {
          "output_type": "stream",
          "name": "stdout",
          "text": [
            "Downloading http://yann.lecun.com/exdb/mnist/train-images-idx3-ubyte.gz\n",
            "Downloading http://yann.lecun.com/exdb/mnist/train-images-idx3-ubyte.gz to ../data/MNIST/raw/train-images-idx3-ubyte.gz\n"
          ]
        },
        {
          "output_type": "stream",
          "name": "stderr",
          "text": [
            "100%|██████████| 9912422/9912422 [00:00<00:00, 177146325.88it/s]\n"
          ]
        },
        {
          "output_type": "stream",
          "name": "stdout",
          "text": [
            "Extracting ../data/MNIST/raw/train-images-idx3-ubyte.gz to ../data/MNIST/raw\n",
            "\n",
            "Downloading http://yann.lecun.com/exdb/mnist/train-labels-idx1-ubyte.gz\n",
            "Downloading http://yann.lecun.com/exdb/mnist/train-labels-idx1-ubyte.gz to ../data/MNIST/raw/train-labels-idx1-ubyte.gz\n"
          ]
        },
        {
          "output_type": "stream",
          "name": "stderr",
          "text": [
            "100%|██████████| 28881/28881 [00:00<00:00, 100029474.67it/s]\n"
          ]
        },
        {
          "output_type": "stream",
          "name": "stdout",
          "text": [
            "Extracting ../data/MNIST/raw/train-labels-idx1-ubyte.gz to ../data/MNIST/raw\n",
            "\n",
            "Downloading http://yann.lecun.com/exdb/mnist/t10k-images-idx3-ubyte.gz\n",
            "Downloading http://yann.lecun.com/exdb/mnist/t10k-images-idx3-ubyte.gz to ../data/MNIST/raw/t10k-images-idx3-ubyte.gz\n"
          ]
        },
        {
          "output_type": "stream",
          "name": "stderr",
          "text": [
            "100%|██████████| 1648877/1648877 [00:00<00:00, 63513806.82it/s]"
          ]
        },
        {
          "output_type": "stream",
          "name": "stdout",
          "text": [
            "Extracting ../data/MNIST/raw/t10k-images-idx3-ubyte.gz to ../data/MNIST/raw\n"
          ]
        },
        {
          "output_type": "stream",
          "name": "stderr",
          "text": [
            "\n"
          ]
        },
        {
          "output_type": "stream",
          "name": "stdout",
          "text": [
            "\n",
            "Downloading http://yann.lecun.com/exdb/mnist/t10k-labels-idx1-ubyte.gz\n",
            "Downloading http://yann.lecun.com/exdb/mnist/t10k-labels-idx1-ubyte.gz to ../data/MNIST/raw/t10k-labels-idx1-ubyte.gz\n"
          ]
        },
        {
          "output_type": "stream",
          "name": "stderr",
          "text": [
            "100%|██████████| 4542/4542 [00:00<00:00, 8730764.79it/s]\n"
          ]
        },
        {
          "output_type": "stream",
          "name": "stdout",
          "text": [
            "Extracting ../data/MNIST/raw/t10k-labels-idx1-ubyte.gz to ../data/MNIST/raw\n",
            "\n"
          ]
        }
      ]
    },
    {
      "cell_type": "code",
      "source": [
        "\n",
        "# Set the batch size for the data loaders\n",
        "batch_size = 512\n",
        "\n",
        "# Set the data loader arguments\n",
        "kwargs = {'batch_size': batch_size, 'shuffle': True, 'num_workers': 2, 'pin_memory': True}\n",
        "\n",
        "# Create the test and train data loaders\n",
        "test_loader = torch.utils.data.DataLoader(test_data, **kwargs)\n",
        "train_loader = torch.utils.data.DataLoader(train_data, **kwargs)"
      ],
      "metadata": {
        "id": "iHE3ZZgqvvo7"
      },
      "execution_count": 5,
      "outputs": []
    },
    {
      "cell_type": "code",
      "source": [
        "import matplotlib.pyplot as plt\n",
        "\n",
        "batch_data, batch_label = next(iter(train_loader)) \n",
        "\n",
        "fig = plt.figure()\n",
        "\n",
        "for i in range(12):\n",
        "  plt.subplot(3,4,i+1)\n",
        "  plt.tight_layout()\n",
        "  plt.imshow(batch_data[i].squeeze(0), cmap='gray')\n",
        "  plt.title(batch_label[i].item())\n",
        "  plt.xticks([])\n",
        "  plt.yticks([])"
      ],
      "metadata": {
        "colab": {
          "base_uri": "https://localhost:8080/",
          "height": 463
        },
        "id": "5mVZ1HiuvyqF",
        "outputId": "2e9de6e3-471d-4b7d-db62-ca07001475ad"
      },
      "execution_count": 6,
      "outputs": [
        {
          "output_type": "display_data",
          "data": {
            "text/plain": [
              "<Figure size 640x480 with 12 Axes>"
            ],
            "image/png": "[encoded data removed]"
          },
          "metadata": {}
        }
      ]
    },
    {
      "cell_type": "code",
      "source": [
        "model = Net().to(device)\n",
        "optimizer = optim.SGD(model.parameters(), lr=0.01, momentum=0.9)\n",
        "scheduler = optim.lr_scheduler.StepLR(optimizer, step_size=10, gamma=0.1, verbose=True)\n",
        "# New Line\n",
        "criterion = F.nll_loss\n",
        "num_epochs = 19\n",
        "\n",
        "for epoch in range(1, num_epochs+1):\n",
        "  print(f'Epoch {epoch}')\n",
        "  train(model, device, train_loader, optimizer, criterion)\n",
        "  test(model, device, test_loader, criterion)\n",
        "  scheduler.step()"
      ],
      "metadata": {
        "colab": {
          "base_uri": "https://localhost:8080/"
        },
        "id": "roQuqhKCv0-m",
        "outputId": "b4dfe14f-358f-45af-80af-18b746c6ae27"
      },
      "execution_count": 7,
      "outputs": [
        {
          "output_type": "stream",
          "name": "stdout",
          "text": [
            "Adjusting learning rate of group 0 to 1.0000e-02.\n",
            "Epoch 1\n"
          ]
        },
        {
          "output_type": "stream",
          "name": "stderr",
          "text": [
            "Train: Loss=0.8499 Batch_id=117 Accuracy=54.26: 100%|██████████| 118/118 [00:31<00:00,  3.73it/s]\n"
          ]
        },
        {
          "output_type": "stream",
          "name": "stdout",
          "text": [
            "Test set: Average loss: 0.6648, Accuracy: 8321/10000 (83.21%)\n",
            "\n",
            "Adjusting learning rate of group 0 to 1.0000e-02.\n",
            "Epoch 2\n"
          ]
        },
        {
          "output_type": "stream",
          "name": "stderr",
          "text": [
            "Train: Loss=0.2968 Batch_id=117 Accuracy=92.31: 100%|██████████| 118/118 [00:28<00:00,  4.13it/s]\n"
          ]
        },
        {
          "output_type": "stream",
          "name": "stdout",
          "text": [
            "Test set: Average loss: 0.1239, Accuracy: 9767/10000 (97.67%)\n",
            "\n",
            "Adjusting learning rate of group 0 to 1.0000e-02.\n",
            "Epoch 3\n"
          ]
        },
        {
          "output_type": "stream",
          "name": "stderr",
          "text": [
            "Train: Loss=0.2140 Batch_id=117 Accuracy=96.47: 100%|██████████| 118/118 [00:25<00:00,  4.72it/s]\n"
          ]
        },
        {
          "output_type": "stream",
          "name": "stdout",
          "text": [
            "Test set: Average loss: 0.0740, Accuracy: 9834/10000 (98.34%)\n",
            "\n",
            "Adjusting learning rate of group 0 to 1.0000e-02.\n",
            "Epoch 4\n"
          ]
        },
        {
          "output_type": "stream",
          "name": "stderr",
          "text": [
            "Train: Loss=0.0451 Batch_id=117 Accuracy=97.44: 100%|██████████| 118/118 [00:23<00:00,  4.92it/s]\n"
          ]
        },
        {
          "output_type": "stream",
          "name": "stdout",
          "text": [
            "Test set: Average loss: 0.0429, Accuracy: 9902/10000 (99.02%)\n",
            "\n",
            "Adjusting learning rate of group 0 to 1.0000e-02.\n",
            "Epoch 5\n"
          ]
        },
        {
          "output_type": "stream",
          "name": "stderr",
          "text": [
            "Train: Loss=0.0932 Batch_id=117 Accuracy=97.91: 100%|██████████| 118/118 [00:24<00:00,  4.81it/s]\n"
          ]
        },
        {
          "output_type": "stream",
          "name": "stdout",
          "text": [
            "Test set: Average loss: 0.0393, Accuracy: 9900/10000 (99.00%)\n",
            "\n",
            "Adjusting learning rate of group 0 to 1.0000e-02.\n",
            "Epoch 6\n"
          ]
        },
        {
          "output_type": "stream",
          "name": "stderr",
          "text": [
            "Train: Loss=0.1191 Batch_id=117 Accuracy=98.07: 100%|██████████| 118/118 [00:24<00:00,  4.91it/s]\n"
          ]
        },
        {
          "output_type": "stream",
          "name": "stdout",
          "text": [
            "Test set: Average loss: 0.0306, Accuracy: 9916/10000 (99.16%)\n",
            "\n",
            "Adjusting learning rate of group 0 to 1.0000e-02.\n",
            "Epoch 7\n"
          ]
        },
        {
          "output_type": "stream",
          "name": "stderr",
          "text": [
            "Train: Loss=0.0557 Batch_id=117 Accuracy=98.27: 100%|██████████| 118/118 [00:24<00:00,  4.86it/s]\n"
          ]
        },
        {
          "output_type": "stream",
          "name": "stdout",
          "text": [
            "Test set: Average loss: 0.0289, Accuracy: 9919/10000 (99.19%)\n",
            "\n",
            "Adjusting learning rate of group 0 to 1.0000e-02.\n",
            "Epoch 8\n"
          ]
        },
        {
          "output_type": "stream",
          "name": "stderr",
          "text": [
            "Train: Loss=0.0731 Batch_id=117 Accuracy=98.41: 100%|██████████| 118/118 [00:24<00:00,  4.85it/s]\n"
          ]
        },
        {
          "output_type": "stream",
          "name": "stdout",
          "text": [
            "Test set: Average loss: 0.0255, Accuracy: 9932/10000 (99.32%)\n",
            "\n",
            "Adjusting learning rate of group 0 to 1.0000e-02.\n",
            "Epoch 9\n"
          ]
        },
        {
          "output_type": "stream",
          "name": "stderr",
          "text": [
            "Train: Loss=0.0885 Batch_id=117 Accuracy=98.44: 100%|██████████| 118/118 [00:22<00:00,  5.14it/s]\n"
          ]
        },
        {
          "output_type": "stream",
          "name": "stdout",
          "text": [
            "Test set: Average loss: 0.0260, Accuracy: 9924/10000 (99.24%)\n",
            "\n",
            "Adjusting learning rate of group 0 to 1.0000e-02.\n",
            "Epoch 10\n"
          ]
        },
        {
          "output_type": "stream",
          "name": "stderr",
          "text": [
            "Train: Loss=0.0127 Batch_id=117 Accuracy=98.45: 100%|██████████| 118/118 [00:23<00:00,  5.07it/s]\n"
          ]
        },
        {
          "output_type": "stream",
          "name": "stdout",
          "text": [
            "Test set: Average loss: 0.0265, Accuracy: 9915/10000 (99.15%)\n",
            "\n",
            "Adjusting learning rate of group 0 to 1.0000e-03.\n",
            "Epoch 11\n"
          ]
        },
        {
          "output_type": "stream",
          "name": "stderr",
          "text": [
            "Train: Loss=0.1292 Batch_id=117 Accuracy=98.67: 100%|██████████| 118/118 [00:23<00:00,  5.00it/s]\n"
          ]
        },
        {
          "output_type": "stream",
          "name": "stdout",
          "text": [
            "Test set: Average loss: 0.0210, Accuracy: 9941/10000 (99.41%)\n",
            "\n",
            "Adjusting learning rate of group 0 to 1.0000e-03.\n",
            "Epoch 12\n"
          ]
        },
        {
          "output_type": "stream",
          "name": "stderr",
          "text": [
            "Train: Loss=0.1426 Batch_id=117 Accuracy=98.78: 100%|██████████| 118/118 [00:23<00:00,  5.10it/s]\n"
          ]
        },
        {
          "output_type": "stream",
          "name": "stdout",
          "text": [
            "Test set: Average loss: 0.0212, Accuracy: 9941/10000 (99.41%)\n",
            "\n",
            "Adjusting learning rate of group 0 to 1.0000e-03.\n",
            "Epoch 13\n"
          ]
        },
        {
          "output_type": "stream",
          "name": "stderr",
          "text": [
            "Train: Loss=0.0615 Batch_id=117 Accuracy=98.71: 100%|██████████| 118/118 [00:24<00:00,  4.84it/s]\n"
          ]
        },
        {
          "output_type": "stream",
          "name": "stdout",
          "text": [
            "Test set: Average loss: 0.0202, Accuracy: 9941/10000 (99.41%)\n",
            "\n",
            "Adjusting learning rate of group 0 to 1.0000e-03.\n",
            "Epoch 14\n"
          ]
        },
        {
          "output_type": "stream",
          "name": "stderr",
          "text": [
            "Train: Loss=0.1239 Batch_id=117 Accuracy=98.72: 100%|██████████| 118/118 [00:25<00:00,  4.71it/s]\n"
          ]
        },
        {
          "output_type": "stream",
          "name": "stdout",
          "text": [
            "Test set: Average loss: 0.0203, Accuracy: 9939/10000 (99.39%)\n",
            "\n",
            "Adjusting learning rate of group 0 to 1.0000e-03.\n",
            "Epoch 15\n"
          ]
        },
        {
          "output_type": "stream",
          "name": "stderr",
          "text": [
            "Train: Loss=0.0498 Batch_id=117 Accuracy=98.80: 100%|██████████| 118/118 [00:24<00:00,  4.78it/s]\n"
          ]
        },
        {
          "output_type": "stream",
          "name": "stdout",
          "text": [
            "Test set: Average loss: 0.0199, Accuracy: 9942/10000 (99.42%)\n",
            "\n",
            "Adjusting learning rate of group 0 to 1.0000e-03.\n",
            "Epoch 16\n"
          ]
        },
        {
          "output_type": "stream",
          "name": "stderr",
          "text": [
            "Train: Loss=0.0336 Batch_id=117 Accuracy=98.72: 100%|██████████| 118/118 [00:24<00:00,  4.87it/s]\n"
          ]
        },
        {
          "output_type": "stream",
          "name": "stdout",
          "text": [
            "Test set: Average loss: 0.0202, Accuracy: 9946/10000 (99.46%)\n",
            "\n",
            "Adjusting learning rate of group 0 to 1.0000e-03.\n",
            "Epoch 17\n"
          ]
        },
        {
          "output_type": "stream",
          "name": "stderr",
          "text": [
            "Train: Loss=0.0118 Batch_id=117 Accuracy=98.77: 100%|██████████| 118/118 [00:25<00:00,  4.59it/s]\n"
          ]
        },
        {
          "output_type": "stream",
          "name": "stdout",
          "text": [
            "Test set: Average loss: 0.0199, Accuracy: 9943/10000 (99.43%)\n",
            "\n",
            "Adjusting learning rate of group 0 to 1.0000e-03.\n",
            "Epoch 18\n"
          ]
        },
        {
          "output_type": "stream",
          "name": "stderr",
          "text": [
            "Train: Loss=0.0700 Batch_id=117 Accuracy=98.81: 100%|██████████| 118/118 [00:24<00:00,  4.91it/s]\n"
          ]
        },
        {
          "output_type": "stream",
          "name": "stdout",
          "text": [
            "Test set: Average loss: 0.0198, Accuracy: 9941/10000 (99.41%)\n",
            "\n",
            "Adjusting learning rate of group 0 to 1.0000e-03.\n",
            "Epoch 19\n"
          ]
        },
        {
          "output_type": "stream",
          "name": "stderr",
          "text": [
            "Train: Loss=0.0240 Batch_id=117 Accuracy=98.80: 100%|██████████| 118/118 [00:24<00:00,  4.89it/s]\n"
          ]
        },
        {
          "output_type": "stream",
          "name": "stdout",
          "text": [
            "Test set: Average loss: 0.0198, Accuracy: 9943/10000 (99.43%)\n",
            "\n",
            "Adjusting learning rate of group 0 to 1.0000e-03.\n"
          ]
        }
      ]
    },
    {
      "cell_type": "code",
      "source": [
        "from torchsummary import summary\n",
        "summary(model, input_size=(1, 28, 28))"
      ],
      "metadata": {
        "colab": {
          "base_uri": "https://localhost:8080/"
        },
        "id": "RAJ2E0_SVa5L",
        "outputId": "00ec8c73-8e2a-4ac5-8978-496d2a90cdc5"
      },
      "execution_count": 8,
      "outputs": [
        {
          "output_type": "stream",
          "name": "stdout",
          "text": [
            "----------------------------------------------------------------\n",
            "        Layer (type)               Output Shape         Param #\n",
            "================================================================\n",
            "            Conv2d-1           [-1, 16, 26, 26]             144\n",
            "       BatchNorm2d-2           [-1, 16, 26, 26]              32\n",
            "              ReLU-3           [-1, 16, 26, 26]               0\n",
            "            Conv2d-4           [-1, 16, 24, 24]           2,304\n",
            "       BatchNorm2d-5           [-1, 16, 24, 24]              32\n",
            "              ReLU-6           [-1, 16, 24, 24]               0\n",
            "            Conv2d-7           [-1, 16, 22, 22]           2,304\n",
            "       BatchNorm2d-8           [-1, 16, 22, 22]              32\n",
            "              ReLU-9           [-1, 16, 22, 22]               0\n",
            "        MaxPool2d-10           [-1, 16, 11, 11]               0\n",
            "           Conv2d-11           [-1, 16, 11, 11]             256\n",
            "      BatchNorm2d-12           [-1, 16, 11, 11]              32\n",
            "             ReLU-13           [-1, 16, 11, 11]               0\n",
            "          Dropout-14           [-1, 16, 11, 11]               0\n",
            "           Conv2d-15             [-1, 16, 9, 9]           2,304\n",
            "      BatchNorm2d-16             [-1, 16, 9, 9]              32\n",
            "             ReLU-17             [-1, 16, 9, 9]               0\n",
            "          Dropout-18             [-1, 16, 9, 9]               0\n",
            "           Conv2d-19             [-1, 16, 7, 7]           2,304\n",
            "      BatchNorm2d-20             [-1, 16, 7, 7]              32\n",
            "             ReLU-21             [-1, 16, 7, 7]               0\n",
            "          Dropout-22             [-1, 16, 7, 7]               0\n",
            "           Conv2d-23             [-1, 16, 5, 5]           2,304\n",
            "      BatchNorm2d-24             [-1, 16, 5, 5]              32\n",
            "             ReLU-25             [-1, 16, 5, 5]               0\n",
            "          Dropout-26             [-1, 16, 5, 5]               0\n",
            "           Conv2d-27             [-1, 16, 5, 5]           2,304\n",
            "      BatchNorm2d-28             [-1, 16, 5, 5]              32\n",
            "             ReLU-29             [-1, 16, 5, 5]               0\n",
            "          Dropout-30             [-1, 16, 5, 5]               0\n",
            "           Conv2d-31             [-1, 16, 5, 5]           2,304\n",
            "      BatchNorm2d-32             [-1, 16, 5, 5]              32\n",
            "             ReLU-33             [-1, 16, 5, 5]               0\n",
            "          Dropout-34             [-1, 16, 5, 5]               0\n",
            "        AvgPool2d-35             [-1, 16, 1, 1]               0\n",
            "           Linear-36                   [-1, 10]             160\n",
            "================================================================\n",
            "Total params: 16,976\n",
            "Trainable params: 16,976\n",
            "Non-trainable params: 0\n",
            "----------------------------------------------------------------\n",
            "Input size (MB): 0.00\n",
            "Forward/backward pass size (MB): 0.81\n",
            "Params size (MB): 0.06\n",
            "Estimated Total Size (MB): 0.88\n",
            "----------------------------------------------------------------\n"
          ]
        }
      ]
    },
    {
      "cell_type": "code",
      "source": [
        "plot_losses()"
      ],
      "metadata": {
        "colab": {
          "base_uri": "https://localhost:8080/",
          "height": 526
        },
        "id": "VkDxTtXHX0Jd",
        "outputId": "bec3ae7d-1fa3-4e19-b625-eae2733d6dd5"
      },
      "execution_count": 9,
      "outputs": [
        {
          "output_type": "display_data",
          "data": {
            "text/plain": [
              "<Figure size 1500x1000 with 4 Axes>"
            ],
            "image/png": "[encoded data removed]"
          },
          "metadata": {}
        }
      ]
    }
  ]
}